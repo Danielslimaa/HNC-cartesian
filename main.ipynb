{
 "cells": [
  {
   "cell_type": "code",
   "execution_count": 2,
   "metadata": {},
   "outputs": [],
   "source": [
    "import numpy as np \n",
    "import matplotlib.pyplot as plt\n",
    "import math\n",
    "from scipy import fft2, ifft2\n",
    "import time\n",
    "from time import strftime, gmtime\n",
    "import numba\n",
    "from numba import jit\n",
    "import pandas as pd\n",
    "import sys\n",
    "\n",
    "import concurrent.futures\n",
    "import multiprocessing\n",
    "num_processes = multiprocessing.cpu_count()\n",
    "\n",
    "from timeit import default_timer as timer\n",
    "\n",
    "import sympy\n",
    "\n",
    "font = {'family': 'serif',\n",
    "          'color':  'black',\n",
    "          'weight': 'normal',\n",
    "          'size': 16,\n",
    "          }"
   ]
  },
  {
   "cell_type": "code",
   "execution_count": null,
   "metadata": {},
   "outputs": [],
   "source": [
    "global first_term, second_term, third_term, V_ph, V_ph_k\n",
    "\n",
    "N = 2*2048\n",
    "k_max = N\n",
    "L = 40\n",
    "\n",
    "#del r_discretization, k_discretization\n",
    "dl = L / N\n",
    "l = np.linspace(-L,L,N)\n",
    "X, Y = np.meshgrid(l,l)\n",
    "\n",
    "g = np.ones((N,N), dtype=np.complex64)\n",
    "S = np.ones((N,N), dtype=np.complex64)\n",
    "\n",
    "#Initializing the terms\n",
    "first_term = np.ones((N,N), dtype=np.complex64)\n",
    "second_term = np.ones((N,N), dtype=np.complex64)\n",
    "third_term = np.ones((N,N), dtype=np.complex64)\n",
    "\n",
    "V_ph = np.ones((N,N), dtype=np.complex64)\n",
    "V_ph_k = np.ones((N,N), dtype=np.complex64)"
   ]
  },
  {
   "cell_type": "code",
   "execution_count": 13,
   "metadata": {},
   "outputs": [
    {
     "data": {
      "text/plain": [
       "array([[1.+0.j, 1.+0.j, 1.+0.j, 1.+0.j, 1.+0.j, 1.+0.j, 1.+0.j, 1.+0.j,\n",
       "        1.+0.j, 1.+0.j],\n",
       "       [1.+0.j, 1.+0.j, 1.+0.j, 1.+0.j, 1.+0.j, 1.+0.j, 1.+0.j, 1.+0.j,\n",
       "        1.+0.j, 1.+0.j],\n",
       "       [1.+0.j, 1.+0.j, 1.+0.j, 1.+0.j, 1.+0.j, 1.+0.j, 1.+0.j, 1.+0.j,\n",
       "        1.+0.j, 1.+0.j],\n",
       "       [1.+0.j, 1.+0.j, 1.+0.j, 1.+0.j, 1.+0.j, 1.+0.j, 1.+0.j, 1.+0.j,\n",
       "        1.+0.j, 1.+0.j],\n",
       "       [1.+0.j, 1.+0.j, 1.+0.j, 1.+0.j, 1.+0.j, 1.+0.j, 1.+0.j, 1.+0.j,\n",
       "        1.+0.j, 1.+0.j],\n",
       "       [1.+0.j, 1.+0.j, 1.+0.j, 1.+0.j, 1.+0.j, 1.+0.j, 1.+0.j, 1.+0.j,\n",
       "        1.+0.j, 1.+0.j],\n",
       "       [1.+0.j, 1.+0.j, 1.+0.j, 1.+0.j, 1.+0.j, 1.+0.j, 1.+0.j, 1.+0.j,\n",
       "        1.+0.j, 1.+0.j],\n",
       "       [1.+0.j, 1.+0.j, 1.+0.j, 1.+0.j, 1.+0.j, 1.+0.j, 1.+0.j, 1.+0.j,\n",
       "        1.+0.j, 1.+0.j],\n",
       "       [1.+0.j, 1.+0.j, 1.+0.j, 1.+0.j, 1.+0.j, 1.+0.j, 1.+0.j, 1.+0.j,\n",
       "        1.+0.j, 1.+0.j],\n",
       "       [1.+0.j, 1.+0.j, 1.+0.j, 1.+0.j, 1.+0.j, 1.+0.j, 1.+0.j, 1.+0.j,\n",
       "        1.+0.j, 1.+0.j]])"
      ]
     },
     "execution_count": 13,
     "metadata": {},
     "output_type": "execute_result"
    }
   ],
   "source": [
    "np.ones((10,10), dtype=np.complex_)"
   ]
  },
  {
   "cell_type": "code",
   "execution_count": null,
   "metadata": {},
   "outputs": [],
   "source": []
  }
 ],
 "metadata": {
  "kernelspec": {
   "display_name": "env",
   "language": "python",
   "name": "python3"
  },
  "language_info": {
   "codemirror_mode": {
    "name": "ipython",
    "version": 3
   },
   "file_extension": ".py",
   "mimetype": "text/x-python",
   "name": "python",
   "nbconvert_exporter": "python",
   "pygments_lexer": "ipython3",
   "version": "3.11.1"
  }
 },
 "nbformat": 4,
 "nbformat_minor": 2
}
