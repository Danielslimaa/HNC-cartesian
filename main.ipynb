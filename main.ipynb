{
 "cells": [
  {
   "cell_type": "code",
   "execution_count": 7,
   "metadata": {},
   "outputs": [],
   "source": [
    "import numpy as np \n",
    "import matplotlib.pyplot as plt\n",
    "import math\n",
    "from scipy.fft import fft2, ifft2\n",
    "import time\n",
    "from time import strftime, gmtime\n",
    "import numba\n",
    "from numba import jit\n",
    "import pandas as pd\n",
    "import sys\n",
    "\n",
    "import concurrent.futures\n",
    "import multiprocessing\n",
    "num_processes = multiprocessing.cpu_count()\n",
    "\n",
    "from timeit import default_timer as timer\n",
    "\n",
    "import sympy\n",
    "\n",
    "font = {'family': 'serif',\n",
    "          'color':  'black',\n",
    "          'weight': 'normal',\n",
    "          'size': 16,\n",
    "          }"
   ]
  },
  {
   "cell_type": "code",
   "execution_count": 15,
   "metadata": {},
   "outputs": [],
   "source": [
    "global first_term, second_term, third_term, V_ph, V_ph_k, rho, dt, U\n",
    "\n",
    "N = 2*2048\n",
    "k_max = N\n",
    "L = 40\n",
    "\n",
    "#del r_discretization, k_discretization\n",
    "dl = L / N\n",
    "l = np.linspace(-L,L,N)\n",
    "X, Y = np.meshgrid(l,l)\n",
    "\n",
    "k2 = np.zeros(N)\n",
    "p = 2*np.pi/L\n",
    "for i in range(0,N/2):\n",
    "  k2 = pow(i*p,2) \n",
    "for i in range(N/2,N):\n",
    "  k2 = pow((i-1)*p,2)\n",
    "\n",
    "Kx, Ky = np.meshgrid(k2,k2)\n",
    "\n",
    "K2 = Kx*Kx+Ky*Ky\n",
    "K = np.sqrt(K2)\n",
    "\n",
    "g = np.ones((N,N), dtype=np.complex64)\n",
    "S = np.ones((N,N), dtype=np.complex64)\n",
    "\n",
    "#Initializing the terms\n",
    "first_term = np.zeros((N,N), dtype=np.complex64)\n",
    "second_term = np.zeros((N,N), dtype=np.complex64)\n",
    "third_term = np.zeros((N,N), dtype=np.complex64)\n",
    "\n",
    "V_ph = np.zeros((N,N), dtype=np.complex64) \n",
    "V_ph_k = np.zeros((N,N), dtype=np.complex64)\n",
    "\n",
    "v = U*np.exp(-X*X-Y*Y)"
   ]
  },
  {
   "cell_type": "code",
   "execution_count": 12,
   "metadata": {},
   "outputs": [],
   "source": [
    "U = 10\n",
    "condition = True\n",
    "while condition:\n",
    "  \n",
    "  S = 1 + rho * fft2(g-1)\n",
    "  omega_k = -0.5*K2*(2*S+1)*(1-(1/S))*(1-(1/S))\n",
    "  omega = ifft2(omega_k)\n",
    "  V_ph = g*v+2*gradient_g+(omega-1)*g\n",
    "  V_ph_k = fft2(V_ph)\n",
    "  dS = K / np.sqrt(K2+2*V_ph_k)\n",
    "  S = S + (1-dt)*dS"
   ]
  },
  {
   "cell_type": "code",
   "execution_count": 19,
   "metadata": {},
   "outputs": [
    {
     "data": {
      "text/plain": [
       "1.4142135623730951"
      ]
     },
     "execution_count": 19,
     "metadata": {},
     "output_type": "execute_result"
    }
   ],
   "source": [
    "np.sqrt(2)"
   ]
  },
  {
   "cell_type": "code",
   "execution_count": 17,
   "metadata": {},
   "outputs": [
    {
     "data": {
      "text/plain": [
       "array([[1.+0.j, 1.+0.j, 1.+0.j, ..., 1.+0.j, 1.+0.j, 1.+0.j],\n",
       "       [1.+0.j, 1.+0.j, 1.+0.j, ..., 1.+0.j, 1.+0.j, 1.+0.j],\n",
       "       [1.+0.j, 1.+0.j, 1.+0.j, ..., 1.+0.j, 1.+0.j, 1.+0.j],\n",
       "       ...,\n",
       "       [1.+0.j, 1.+0.j, 1.+0.j, ..., 1.+0.j, 1.+0.j, 1.+0.j],\n",
       "       [1.+0.j, 1.+0.j, 1.+0.j, ..., 1.+0.j, 1.+0.j, 1.+0.j],\n",
       "       [1.+0.j, 1.+0.j, 1.+0.j, ..., 1.+0.j, 1.+0.j, 1.+0.j]],\n",
       "      dtype=complex64)"
      ]
     },
     "execution_count": 17,
     "metadata": {},
     "output_type": "execute_result"
    }
   ],
   "source": [
    "g"
   ]
  },
  {
   "cell_type": "code",
   "execution_count": 18,
   "metadata": {},
   "outputs": [
    {
     "data": {
      "text/plain": [
       "array([[1.+0.j, 1.+0.j, 1.+0.j, ..., 1.+0.j, 1.+0.j, 1.+0.j],\n",
       "       [1.+0.j, 1.+0.j, 1.+0.j, ..., 1.+0.j, 1.+0.j, 1.+0.j],\n",
       "       [1.+0.j, 1.+0.j, 1.+0.j, ..., 1.+0.j, 1.+0.j, 1.+0.j],\n",
       "       ...,\n",
       "       [1.+0.j, 1.+0.j, 1.+0.j, ..., 1.+0.j, 1.+0.j, 1.+0.j],\n",
       "       [1.+0.j, 1.+0.j, 1.+0.j, ..., 1.+0.j, 1.+0.j, 1.+0.j],\n",
       "       [1.+0.j, 1.+0.j, 1.+0.j, ..., 1.+0.j, 1.+0.j, 1.+0.j]],\n",
       "      dtype=complex64)"
      ]
     },
     "execution_count": 18,
     "metadata": {},
     "output_type": "execute_result"
    }
   ],
   "source": [
    "1/g"
   ]
  },
  {
   "cell_type": "code",
   "execution_count": null,
   "metadata": {},
   "outputs": [],
   "source": []
  }
 ],
 "metadata": {
  "kernelspec": {
   "display_name": "env",
   "language": "python",
   "name": "python3"
  },
  "language_info": {
   "codemirror_mode": {
    "name": "ipython",
    "version": 3
   },
   "file_extension": ".py",
   "mimetype": "text/x-python",
   "name": "python",
   "nbconvert_exporter": "python",
   "pygments_lexer": "ipython3",
   "version": "3.11.1"
  }
 },
 "nbformat": 4,
 "nbformat_minor": 2
}
