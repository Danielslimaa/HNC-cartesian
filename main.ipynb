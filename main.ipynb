{
 "cells": [
  {
   "cell_type": "code",
   "execution_count": 111,
   "metadata": {},
   "outputs": [],
   "source": [
    "import numpy as np \n",
    "import matplotlib.pyplot as plt\n",
    "import math\n",
    "from scipy.fft import fft2, ifft2, rfft2, irfft2\n",
    "import time\n",
    "from time import strftime, gmtime\n",
    "import numba\n",
    "from numba import jit\n",
    "import pandas as pd\n",
    "import sys\n",
    "\n",
    "import concurrent.futures\n",
    "import multiprocessing\n",
    "num_processes = multiprocessing.cpu_count()\n",
    "\n",
    "from timeit import default_timer as timer\n",
    "\n",
    "import sympy\n",
    "\n",
    "font = {'family': 'serif',\n",
    "          'color':  'black',\n",
    "          'weight': 'normal',\n",
    "          'size': 16,\n",
    "          }"
   ]
  },
  {
   "cell_type": "code",
   "execution_count": 121,
   "metadata": {},
   "outputs": [],
   "source": [
    "global first_term, second_term, third_term, V_ph, V_ph_k, rho, dt, U, dl\n",
    "\n",
    "N = 512\n",
    "k_max = N\n",
    "L = 20\n",
    "\n",
    "#del r_discretization, k_discretization\n",
    "dl = L / N\n",
    "l = np.linspace(-L,L,N)\n",
    "X, Y = np.meshgrid(l,l)\n",
    "\n",
    "k2 = np.zeros(N)\n",
    "p = 2*np.pi/L\n",
    "for i in range(0,N//2):\n",
    "  k2[i] = pow(i*p,2) \n",
    "for i in range(N//2,N):\n",
    "  k2[i] = pow((i-1)*p,2)\n",
    "\n",
    "Kx2, Ky2 = np.meshgrid(k2,k2)\n",
    "\n",
    "K2 = Kx2+Ky2\n",
    "K = np.sqrt(K2)\n",
    "\n",
    "g = np.ones((N,N), dtype=np.complex64)\n",
    "S = np.ones((N,N), dtype=np.complex64)\n",
    "\n",
    "#Initializing the terms\n",
    "first_term = np.zeros((N,N), dtype=np.complex64)\n",
    "second_term = np.zeros((N,N), dtype=np.complex64)\n",
    "third_term = np.zeros((N,N), dtype=np.complex64)\n",
    "\n",
    "V_ph = np.zeros((N,N), dtype=np.complex64) \n",
    "V_ph_k = np.zeros((N,N), dtype=np.complex64)\n",
    "\n",
    "U = 0.0001\n",
    "rho = 1\n",
    "\n",
    "v = U*np.exp(-X*X-Y*Y)\n",
    "c1 = pow(2*np.pi,-2) / rho"
   ]
  },
  {
   "cell_type": "code",
   "execution_count": 122,
   "metadata": {},
   "outputs": [],
   "source": [
    "@numba.jit(nopython=True, parallel=False)\n",
    "def primeira_derivada( dr, y_anterior, y_0):\n",
    "  derivada = (y_0-y_anterior)/dr\n",
    "  return derivada\n",
    "\n",
    "@numba.jit(nopython=True, parallel=True)\n",
    "def calculate_second_term(g):\n",
    "  #Calculating the second gradient of |sqrt(g(r))|^2\n",
    "  grad_x = np.zeros((N,N), dtype=np.complex64)\n",
    "  grad_y = np.zeros((N,N), dtype=np.complex64)\n",
    "\n",
    "  for i in range(0,N):\n",
    "    for j in range(0,N-1):\n",
    "        grad_x[i,j] = g[i,j] - g[i,j+1]\n",
    "    grad_x[i,N-1] = grad_x[i,N-2] \n",
    "\n",
    "  for j in range(0,N):\n",
    "    for i in range(0,N-1):\n",
    "        grad_y[i,j] = g[i,j] - g[i+1,j]\n",
    "    grad_y[N-1,j] = grad_y[N-2,j]  \n",
    "\n",
    "  aux = (grad_x*grad_x+grad_y*grad_y) / (dl * dl)\n",
    "  gradient_root_g = aux / (4.0*np.absolute(g))\n",
    "\n",
    "  return gradient_root_g"
   ]
  },
  {
   "cell_type": "code",
   "execution_count": 124,
   "metadata": {},
   "outputs": [
    {
     "name": "stdout",
     "output_type": "stream",
     "text": [
      "i = 1, error = (0.010131987917229506+0j)\n",
      "i = 2, error = 67.21099696738129\n",
      "i = 3, error = 445847.1665664084\n",
      "i = 4, error = 2957547200.6726246\n",
      "i = 5, error = 19619022167551.684\n",
      "i = 6, error = 1.3014366456208942e+17\n",
      "i = 7, error = 8.633138431161329e+20\n",
      "i = 8, error = 5.726831146362648e+24\n",
      "i = 9, error = nan\n"
     ]
    }
   ],
   "source": [
    "g = np.ones((N,N), dtype=np.complex64)\n",
    "S = np.ones((N,N), dtype=np.complex64)\n",
    "aux = np.zeros((N,N))\n",
    "dt = 0.001\n",
    "condition = True\n",
    "counter = 1\n",
    "while condition:\n",
    "  \n",
    "  S = np.real(1 + rho * fft2(g-1))\n",
    "  omega_k = -0.5*K2*(2*S+1)*(1-(1/S))*(1-(1/S))\n",
    "  omega = ifft2(omega_k) * c1\n",
    "  gradient_g = calculate_second_term(g)\n",
    "  V_ph = g*v+2*gradient_g+(omega-1)*g\n",
    "  V_ph_k = rho * fft2(V_ph)\n",
    "  aux = np.real(K2+2*V_ph_k)\n",
    "  #if any(np.less_equal(aux, 0)):\n",
    "   # print(\"instability at rho = \", rho)\n",
    "    #break\n",
    "  new_S = K / np.sqrt(np.abs(aux))\n",
    "  S = (1-dt)*S + dt*new_S\n",
    "  new_g = np.real(1+fft2(S-1) * c1)\n",
    "  error = np.sum(np.sum(g-new_g)) * dl * dl\n",
    "  condition = error > 1e-6\n",
    "  g = new_g\n",
    "  print('i = {}, error = {}'.format(counter, error))\n",
    "  counter = counter + 1"
   ]
  },
  {
   "cell_type": "code",
   "execution_count": 119,
   "metadata": {},
   "outputs": [
    {
     "data": {
      "text/plain": [
       "array([[1.+0.j, 1.+0.j, 1.+0.j, ..., 1.+0.j, 1.+0.j, 1.+0.j],\n",
       "       [1.+0.j, 1.+0.j, 1.+0.j, ..., 1.+0.j, 1.+0.j, 1.+0.j],\n",
       "       [1.+0.j, 1.+0.j, 1.+0.j, ..., 1.+0.j, 1.+0.j, 1.+0.j],\n",
       "       ...,\n",
       "       [1.+0.j, 1.+0.j, 1.+0.j, ..., 1.+0.j, 1.+0.j, 1.+0.j],\n",
       "       [1.+0.j, 1.+0.j, 1.+0.j, ..., 1.+0.j, 1.+0.j, 1.+0.j],\n",
       "       [1.+0.j, 1.+0.j, 1.+0.j, ..., 1.+0.j, 1.+0.j, 1.+0.j]])"
      ]
     },
     "execution_count": 119,
     "metadata": {},
     "output_type": "execute_result"
    }
   ],
   "source": [
    "g = np.ones((N,N))\n",
    "S = np.ones((N,N))\n",
    "  \n",
    "S = 1 + rho * rfft2(g-1)\n",
    "S"
   ]
  },
  {
   "cell_type": "code",
   "execution_count": 120,
   "metadata": {},
   "outputs": [
    {
     "data": {
      "text/plain": [
       "(512, 257)"
      ]
     },
     "execution_count": 120,
     "metadata": {},
     "output_type": "execute_result"
    }
   ],
   "source": [
    "S.shape"
   ]
  },
  {
   "cell_type": "code",
   "execution_count": null,
   "metadata": {},
   "outputs": [],
   "source": []
  }
 ],
 "metadata": {
  "kernelspec": {
   "display_name": "env",
   "language": "python",
   "name": "python3"
  },
  "language_info": {
   "codemirror_mode": {
    "name": "ipython",
    "version": 3
   },
   "file_extension": ".py",
   "mimetype": "text/x-python",
   "name": "python",
   "nbconvert_exporter": "python",
   "pygments_lexer": "ipython3",
   "version": "3.11.1"
  }
 },
 "nbformat": 4,
 "nbformat_minor": 2
}
