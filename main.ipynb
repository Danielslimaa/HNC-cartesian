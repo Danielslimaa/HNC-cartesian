{
 "cells": [
  {
   "cell_type": "code",
   "execution_count": 1,
   "metadata": {},
   "outputs": [],
   "source": [
    "import numpy as np \n",
    "import matplotlib.pyplot as plt\n",
    "import math\n",
    "from scipy.fft import fft2, ifft2, fftshift\n",
    "import time\n",
    "from time import strftime, gmtime\n",
    "import numba\n",
    "from numba import jit\n",
    "import pandas as pd\n",
    "import sys\n",
    "\n",
    "import concurrent.futures\n",
    "import multiprocessing\n",
    "num_processes = multiprocessing.cpu_count()\n",
    "\n",
    "from timeit import default_timer as timer\n",
    "\n",
    "import sympy\n",
    "import os\n",
    "font = {'family': 'serif',\n",
    "          'color':  'black',\n",
    "          'weight': 'normal',\n",
    "          'size': 16,\n",
    "          }"
   ]
  },
  {
   "cell_type": "code",
   "execution_count": 153,
   "metadata": {},
   "outputs": [],
   "source": [
    "global first_term, second_term, third_term, V_ph, V_ph_k, rho, dt, U, dl\n",
    "\n",
    "N = 128\n",
    "L = 80\n",
    "\n",
    "#del r_discretization, k_discretization\n",
    "l = np.linspace(-L/2,L/2,N)\n",
    "k = np.linspace(-1*np.pi,1*np.pi/L,N)\n",
    "dl = np.abs(l[1]-l[0])\n",
    "dx = dl\n",
    "dy = dx\n",
    "dkx = np.abs(k[1]-k[0])\n",
    "dky = dkx\n",
    "X, Y = np.meshgrid(l,l)\n",
    "\n",
    "mu2_p = np.zeros((N,N))\n",
    "lambda2_q = np.zeros((N,N))\n",
    "\n",
    "p = 2 * np.pi / L\n",
    "for i in range(0,N):\n",
    "  for j in range(0,N//2):\n",
    "    mu2_p[i,j] = pow(j * p, 2)\n",
    "  for j in range(N//2,N):    \n",
    "    mu2_p[i,j] = pow((j - N) * p, 2)\n",
    "for j in range(0,N):     \n",
    "  for i in range(0,N//2):    \n",
    "    lambda2_q[i,j] = pow(i * p, 2);    \n",
    "  for i in range(N//2,N):    \n",
    "    lambda2_q[i,j] = pow((i - N) * p, 2)\n",
    "    \n",
    "#K2 = mu2_p+lambda2_q\n",
    "Kx, Ky = np.meshgrid(k,k)\n",
    "K2 = Kx*Kx + Ky*Ky\n",
    "K = np.sqrt(K2)\n",
    "\n",
    "g = np.ones((N,N), dtype=np.float32)\n",
    "S = np.ones((N,N), dtype=np.float32)\n",
    "\n",
    "#Initializing the terms\n",
    "first_term = np.zeros((N,N), dtype=np.complex64)\n",
    "second_term = np.zeros((N,N), dtype=np.complex64)\n",
    "third_term = np.zeros((N,N), dtype=np.complex64)\n",
    "\n",
    "V_ph = np.zeros((N,N), dtype=np.complex64) \n",
    "V_ph_k = np.zeros((N,N), dtype=np.complex64)\n",
    "\n",
    "@numba.jit(nopython=True, parallel=True)\n",
    "def calculate_second_term(g):\n",
    "  #Calculating the second gradient of |sqrt(g(r))|^2\n",
    "  grad_x = np.zeros((N,N), dtype=np.complex64)\n",
    "  grad_y = np.zeros((N,N), dtype=np.complex64)\n",
    "\n",
    "  for i in range(0,N):\n",
    "    for j in range(0,N-1):\n",
    "        grad_x[i,j] = g[i,j] - g[i,j+1]\n",
    "    grad_x[i,N-1] = grad_x[i,N-2] \n",
    "\n",
    "  for j in range(0,N):\n",
    "    for i in range(0,N-1):\n",
    "        grad_y[i,j] = g[i,j] - g[i+1,j]\n",
    "    grad_y[N-1,j] = grad_y[N-2,j]  \n",
    "\n",
    "  aux = (grad_x*grad_x+grad_y*grad_y) / (dl * dl)\n",
    "  gradient_root_g = aux / (4.0*g)\n",
    "\n",
    "  return gradient_root_g"
   ]
  },
  {
   "cell_type": "code",
   "execution_count": 154,
   "metadata": {},
   "outputs": [
    {
     "name": "stdout",
     "output_type": "stream",
     "text": [
      "i = 1, error = 9.851865123192035e-08\n"
     ]
    }
   ],
   "source": [
    "U = 10\n",
    "rho = 1\n",
    "\n",
    "v = U*np.exp(-X*X-Y*Y)\n",
    "c1 = pow(2*np.pi,-2) / rho\n",
    "\n",
    "g = np.ones((N,N), dtype=np.float32)\n",
    "S = np.ones((N,N), dtype=np.float32)\n",
    "aux = np.zeros((N,N))\n",
    "\n",
    "dt = 0.01\n",
    "condition = True\n",
    "counter = 1\n",
    "while condition:\n",
    "  omega_k = -0.25*K2*(2*S+1)*(1-(1/S))*(1-(1/S)) \n",
    "  omega = dkx * dky * (ifft2(omega_k, workers=10, norm='forward')) * c1\n",
    "  second_term = calculate_second_term(g)\n",
    "  V_ph = g*v+1*second_term+(g-1)*omega\n",
    "  V_ph_k = fftshift(rho * (fft2(V_ph, workers=10, norm='backward')) * dx * dy)\n",
    "  aux = np.real(K2+4*V_ph_k)\n",
    "  #if any(np.less_equal(aux, 0)):\n",
    "   # print(\"instability at rho = \", rho)\n",
    "    #break\n",
    "  new_S = K / np.sqrt(np.abs(aux)) \n",
    "  S = (1-dt)*S + dt*new_S\n",
    "  dg = (1+(dkx * dky * ifft2(S-1, workers=10, norm='forward')) * c1)\n",
    "  new_g = dg#g*np.exp(dt*(dg-g))\n",
    "  if counter%25==0 or counter==1:\n",
    "    error = np.abs(np.sum(np.sum(g-new_g))) * dl * dl / dt\n",
    "    condition = error > 1e-6\n",
    "    print('i = {}, error = {}'.format(counter, error))\n",
    "    \n",
    "  g = new_g\n",
    "  \n",
    "  counter = counter + 1"
   ]
  },
  {
   "cell_type": "code",
   "execution_count": 156,
   "metadata": {},
   "outputs": [
    {
     "data": {
      "text/plain": [
       "[<matplotlib.lines.Line2D at 0x247c76de250>]"
      ]
     },
     "execution_count": 156,
     "metadata": {},
     "output_type": "execute_result"
    },
    {
     "data": {
      "image/png": "[encoded data removed]",
      "text/plain": [
       "<Figure size 640x480 with 1 Axes>"
      ]
     },
     "metadata": {},
     "output_type": "display_data"
    }
   ],
   "source": [
    "plt.plot(l,np.real((S[:,N//2])))\n",
    "plt.plot(l,np.real((g[:,N//2])))\n",
    "\n",
    "#plt.xlim(np.min(l),np.max(l))\n",
    "#plt.xlim(0,.1)"
   ]
  },
  {
   "cell_type": "code",
   "execution_count": 13,
   "metadata": {},
   "outputs": [
    {
     "data": {
      "text/plain": [
       "-0.019540791402050672"
      ]
     },
     "execution_count": 13,
     "metadata": {},
     "output_type": "execute_result"
    }
   ],
   "source": [
    "l[0]-l[1]"
   ]
  },
  {
   "cell_type": "code",
   "execution_count": 59,
   "metadata": {},
   "outputs": [
    {
     "data": {
      "text/plain": [
       "66.55514500346469"
      ]
     },
     "execution_count": 59,
     "metadata": {},
     "output_type": "execute_result"
    }
   ],
   "source": [
    "np.max(S)"
   ]
  },
  {
   "cell_type": "code",
   "execution_count": 66,
   "metadata": {},
   "outputs": [
    {
     "data": {
      "text/plain": [
       "0.0003699884752337802"
      ]
     },
     "execution_count": 66,
     "metadata": {},
     "output_type": "execute_result"
    }
   ],
   "source": [
    "np.min(np.min(S))"
   ]
  },
  {
   "cell_type": "code",
   "execution_count": 159,
   "metadata": {},
   "outputs": [
    {
     "data": {
      "text/plain": [
       "array([[0],\n",
       "       [1],\n",
       "       [2],\n",
       "       [3],\n",
       "       [4],\n",
       "       [5],\n",
       "       [6],\n",
       "       [7],\n",
       "       [8],\n",
       "       [9]])"
      ]
     },
     "execution_count": 159,
     "metadata": {},
     "output_type": "execute_result"
    }
   ],
   "source": [
    "np.transpose([np.arange(10)])"
   ]
  },
  {
   "cell_type": "code",
   "execution_count": 187,
   "metadata": {},
   "outputs": [],
   "source": [
    "a=np.array(np.exp([-np.arange(10)]), dtype=complex)\n",
    "b=np.transpose(a)"
   ]
  },
  {
   "cell_type": "code",
   "execution_count": 177,
   "metadata": {},
   "outputs": [],
   "source": [
    "x = np.ones((10,10))"
   ]
  },
  {
   "cell_type": "code",
   "execution_count": 166,
   "metadata": {},
   "outputs": [
    {
     "data": {
      "text/plain": [
       "array([[0., 1., 2., 3., 4., 5., 6., 7., 8., 9.],\n",
       "       [0., 1., 2., 3., 4., 5., 6., 7., 8., 9.],\n",
       "       [0., 1., 2., 3., 4., 5., 6., 7., 8., 9.],\n",
       "       [0., 1., 2., 3., 4., 5., 6., 7., 8., 9.],\n",
       "       [0., 1., 2., 3., 4., 5., 6., 7., 8., 9.],\n",
       "       [0., 1., 2., 3., 4., 5., 6., 7., 8., 9.],\n",
       "       [0., 1., 2., 3., 4., 5., 6., 7., 8., 9.],\n",
       "       [0., 1., 2., 3., 4., 5., 6., 7., 8., 9.],\n",
       "       [0., 1., 2., 3., 4., 5., 6., 7., 8., 9.],\n",
       "       [0., 1., 2., 3., 4., 5., 6., 7., 8., 9.]])"
      ]
     },
     "execution_count": 166,
     "metadata": {},
     "output_type": "execute_result"
    }
   ],
   "source": [
    "y1=x*a"
   ]
  },
  {
   "cell_type": "code",
   "execution_count": 167,
   "metadata": {},
   "outputs": [
    {
     "data": {
      "text/plain": [
       "array([[0., 0., 0., 0., 0., 0., 0., 0., 0., 0.],\n",
       "       [1., 1., 1., 1., 1., 1., 1., 1., 1., 1.],\n",
       "       [2., 2., 2., 2., 2., 2., 2., 2., 2., 2.],\n",
       "       [3., 3., 3., 3., 3., 3., 3., 3., 3., 3.],\n",
       "       [4., 4., 4., 4., 4., 4., 4., 4., 4., 4.],\n",
       "       [5., 5., 5., 5., 5., 5., 5., 5., 5., 5.],\n",
       "       [6., 6., 6., 6., 6., 6., 6., 6., 6., 6.],\n",
       "       [7., 7., 7., 7., 7., 7., 7., 7., 7., 7.],\n",
       "       [8., 8., 8., 8., 8., 8., 8., 8., 8., 8.],\n",
       "       [9., 9., 9., 9., 9., 9., 9., 9., 9., 9.]])"
      ]
     },
     "execution_count": 167,
     "metadata": {},
     "output_type": "execute_result"
    }
   ],
   "source": [
    "x*b"
   ]
  },
  {
   "cell_type": "code",
   "execution_count": 176,
   "metadata": {},
   "outputs": [
    {
     "data": {
      "text/plain": [
       "array([[ 0.],\n",
       "       [10.],\n",
       "       [20.],\n",
       "       [30.],\n",
       "       [40.],\n",
       "       [50.],\n",
       "       [60.],\n",
       "       [70.],\n",
       "       [80.],\n",
       "       [90.]])"
      ]
     },
     "execution_count": 176,
     "metadata": {},
     "output_type": "execute_result"
    }
   ],
   "source": [
    "np.sum(x*b, axis = -1, keepdims=True)"
   ]
  },
  {
   "cell_type": "code",
   "execution_count": 345,
   "metadata": {},
   "outputs": [
    {
     "data": {
      "text/plain": [
       "array([[0.99691733+0.0784591j ],\n",
       "       [0.99965732+0.02617695j],\n",
       "       [0.99965732-0.02617695j],\n",
       "       [0.99691733-0.0784591j ]])"
      ]
     },
     "execution_count": 345,
     "metadata": {},
     "output_type": "execute_result"
    }
   ],
   "source": [
    "N = 4\n",
    "k = np.linspace(-1,1,N)\n",
    "W_x = np.transpose(np.array([np.exp(-2j*np.pi*k/L)]))\n",
    "iW_x = np.transpose(np.conj(np.array([np.exp(2j*np.pi*k/L)])))\n",
    "W_y = np.array([np.exp(-2j*np.pi*k/L)])\n",
    "iW_y = np.transpose(np.conj(W_y))\n",
    "h = np.ones((N,N))\n",
    "iW_x"
   ]
  },
  {
   "cell_type": "code",
   "execution_count": 346,
   "metadata": {},
   "outputs": [
    {
     "data": {
      "text/plain": [
       "array([[3.99314932+1.38777878e-17j],\n",
       "       [3.99314932+1.38777878e-17j],\n",
       "       [3.99314932+1.38777878e-17j],\n",
       "       [3.99314932+1.38777878e-17j]])"
      ]
     },
     "execution_count": 346,
     "metadata": {},
     "output_type": "execute_result"
    }
   ],
   "source": [
    "coef_ffty_h = np.sum(h*W_y, axis = -1, keepdims=True)\n",
    "coef_ffty_h"
   ]
  },
  {
   "cell_type": "code",
   "execution_count": 337,
   "metadata": {},
   "outputs": [
    {
     "data": {
      "text/plain": [
       "array([[3.98083977-0.31329888j, 3.98083977-0.31329888j,\n",
       "        3.98083977-0.31329888j, 3.98083977-0.31329888j],\n",
       "       [3.99178096-0.10452846j, 3.99178096-0.10452846j,\n",
       "        3.99178096-0.10452846j, 3.99178096-0.10452846j],\n",
       "       [3.99178096+0.10452846j, 3.99178096+0.10452846j,\n",
       "        3.99178096+0.10452846j, 3.99178096+0.10452846j],\n",
       "       [3.98083977+0.31329888j, 3.98083977+0.31329888j,\n",
       "        3.98083977+0.31329888j, 3.98083977+0.31329888j]])"
      ]
     },
     "execution_count": 337,
     "metadata": {},
     "output_type": "execute_result"
    }
   ],
   "source": [
    "h2 = coef_ffty_h * iW_y\n",
    "h2"
   ]
  },
  {
   "cell_type": "code",
   "execution_count": 342,
   "metadata": {},
   "outputs": [
    {
     "data": {
      "text/plain": [
       "array([[15.77594809-2.49866471j, 15.77594809-2.49866471j,\n",
       "        15.77594809-2.49866471j, 15.77594809-2.49866471j],\n",
       "       [15.95070738-0.83594115j, 15.95070738-0.83594115j,\n",
       "        15.95070738-0.83594115j, 15.95070738-0.83594115j],\n",
       "       [15.95070738+0.83594115j, 15.95070738+0.83594115j,\n",
       "        15.95070738+0.83594115j, 15.95070738+0.83594115j],\n",
       "       [15.77594809+2.49866471j, 15.77594809+2.49866471j,\n",
       "        15.77594809+2.49866471j, 15.77594809+2.49866471j]])"
      ]
     },
     "execution_count": 342,
     "metadata": {},
     "output_type": "execute_result"
    }
   ],
   "source": [
    "coef_iffty_h = np.sum(h2*iW_y, axis = -1, keepdims=True)\n",
    "coef_iffty_h"
   ]
  },
  {
   "cell_type": "code",
   "execution_count": 344,
   "metadata": {},
   "outputs": [
    {
     "data": {
      "text/plain": [
       "array([[15.53127314-3.72872878j, 15.83594949-2.0848423j ,\n",
       "        15.96712386-0.41811385j, 15.92335908+1.25319554j],\n",
       "       [15.70513465-2.91077466j, 15.92335908-1.25319554j,\n",
       "        15.96712386+0.41811385j, 15.83594949+2.0848423j ],\n",
       "       [15.83594949-2.0848423j , 15.96712386-0.41811385j,\n",
       "        15.92335908+1.25319554j, 15.70513465+2.91077466j],\n",
       "       [15.92335908-1.25319554j, 15.96712386+0.41811385j,\n",
       "        15.83594949+2.0848423j , 15.53127314+3.72872878j]])"
      ]
     },
     "execution_count": 344,
     "metadata": {},
     "output_type": "execute_result"
    }
   ],
   "source": [
    "h3 = np.transpose(coef_iffty_h)*iW_y\n",
    "h3"
   ]
  },
  {
   "cell_type": "code",
   "execution_count": 285,
   "metadata": {},
   "outputs": [
    {
     "data": {
      "text/plain": [
       "array([[0.99691733+0.0784591j , 0.99691733+0.0784591j ,\n",
       "        0.99691733+0.0784591j , 0.99691733+0.0784591j ],\n",
       "       [0.99965732+0.02617695j, 0.99965732+0.02617695j,\n",
       "        0.99965732+0.02617695j, 0.99965732+0.02617695j],\n",
       "       [0.99965732-0.02617695j, 0.99965732-0.02617695j,\n",
       "        0.99965732-0.02617695j, 0.99965732-0.02617695j],\n",
       "       [0.99691733-0.0784591j , 0.99691733-0.0784591j ,\n",
       "        0.99691733-0.0784591j , 0.99691733-0.0784591j ]])"
      ]
     },
     "execution_count": 285,
     "metadata": {},
     "output_type": "execute_result"
    }
   ],
   "source": [
    "h*np.transpose(W_y)"
   ]
  },
  {
   "cell_type": "code",
   "execution_count": 349,
   "metadata": {},
   "outputs": [
    {
     "data": {
      "text/plain": [
       "array([[16.-0.j,  0.+0.j,  0.-0.j,  0.-0.j],\n",
       "       [ 0.+0.j,  0.+0.j,  0.+0.j,  0.-0.j],\n",
       "       [ 0.-0.j,  0.+0.j,  0.-0.j,  0.-0.j],\n",
       "       [ 0.-0.j,  0.+0.j,  0.-0.j,  0.-0.j]])"
      ]
     },
     "execution_count": 349,
     "metadata": {},
     "output_type": "execute_result"
    }
   ],
   "source": [
    "fft2(h)"
   ]
  }
 ],
 "metadata": {
  "kernelspec": {
   "display_name": "env",
   "language": "python",
   "name": "python3"
  },
  "language_info": {
   "codemirror_mode": {
    "name": "ipython",
    "version": 3
   },
   "file_extension": ".py",
   "mimetype": "text/x-python",
   "name": "python",
   "nbconvert_exporter": "python",
   "pygments_lexer": "ipython3",
   "version": "3.11.1"
  }
 },
 "nbformat": 4,
 "nbformat_minor": 2
}
