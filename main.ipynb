{
 "cells": [
  {
   "cell_type": "code",
   "execution_count": 84,
   "metadata": {},
   "outputs": [],
   "source": [
    "import numpy as np \n",
    "import matplotlib.pyplot as plt\n",
    "import math\n",
    "from scipy.fft import fft2, ifft2, fftshift\n",
    "import time\n",
    "from time import strftime, gmtime\n",
    "import numba\n",
    "from numba import jit\n",
    "import pandas as pd\n",
    "import sys\n",
    "\n",
    "import concurrent.futures\n",
    "import multiprocessing\n",
    "num_processes = multiprocessing.cpu_count()\n",
    "\n",
    "from timeit import default_timer as timer\n",
    "\n",
    "import sympy\n",
    "import os\n",
    "font = {'family': 'serif',\n",
    "          'color':  'black',\n",
    "          'weight': 'normal',\n",
    "          'size': 16,\n",
    "          }"
   ]
  },
  {
   "cell_type": "code",
   "execution_count": 160,
   "metadata": {},
   "outputs": [],
   "source": [
    "global first_term, second_term, third_term, V_ph, V_ph_k, rho, dt, U, dl\n",
    "\n",
    "N = 1024\n",
    "L = 60\n",
    "\n",
    "#del r_discretization, k_discretization\n",
    "l = np.linspace(-L/2,L/2,N)\n",
    "k = np.linspace(0,2*np.pi/L,N)\n",
    "dl = np.abs(l[1]-l[0])\n",
    "dx = dl\n",
    "dy = dx\n",
    "dkx = np.abs(k[1]-k[0])\n",
    "dky = dkx\n",
    "X, Y = np.meshgrid(l,l)\n",
    "\n",
    "mu2_p = np.zeros((N,N))\n",
    "lambda2_q = np.zeros((N,N))\n",
    "\n",
    "p = 2 * np.pi / L\n",
    "for i in range(0,N):\n",
    "  for j in range(0,N//2):\n",
    "    mu2_p[i,j] = pow(j * p, 2)\n",
    "  for j in range(N//2,N):    \n",
    "    mu2_p[i,j] = pow((j - N) * p, 2)\n",
    "\n",
    "for j in range(0,N):     \n",
    "  for i in range(0,N//2):    \n",
    "    lambda2_q[i,j] = pow(i * p, 2);    \n",
    "  for i in range(N//2,N):    \n",
    "    lambda2_q[i,j] = pow((i - N) * p, 2)\n",
    "    \n",
    "K2 = mu2_p+lambda2_q\n",
    "Kx, Ky = np.meshgrid(k,k)\n",
    "Kx2 = Kx * Kx\n",
    "Ky2 = Ky * Ky\n",
    "K2 = Kx2 + Ky2\n",
    "K = np.sqrt(K2)\n",
    "\n",
    "g = np.ones((N,N), dtype=np.float32)\n",
    "S = np.ones((N,N), dtype=np.float32)\n",
    "\n",
    "#Initializing the terms\n",
    "first_term = np.zeros((N,N), dtype=np.complex64)\n",
    "second_term = np.zeros((N,N), dtype=np.complex64)\n",
    "third_term = np.zeros((N,N), dtype=np.complex64)\n",
    "\n",
    "V_ph = np.zeros((N,N), dtype=np.complex64) \n",
    "V_ph_k = np.zeros((N,N), dtype=np.complex64)\n",
    "\n",
    "@numba.jit(nopython=True, parallel=True)\n",
    "def calculate_second_term(g):\n",
    "  #Calculating the second gradient of |sqrt(g(r))|^2\n",
    "  grad_x = np.zeros((N,N), dtype=np.complex64)\n",
    "  grad_y = np.zeros((N,N), dtype=np.complex64)\n",
    "\n",
    "  for i in range(0,N):\n",
    "    for j in range(0,N-1):\n",
    "        grad_x[i,j] = g[i,j] - g[i,j+1]\n",
    "    grad_x[i,N-1] = grad_x[i,N-2] \n",
    "\n",
    "  for j in range(0,N):\n",
    "    for i in range(0,N-1):\n",
    "        grad_y[i,j] = g[i,j] - g[i+1,j]\n",
    "    grad_y[N-1,j] = grad_y[N-2,j]  \n",
    "\n",
    "  aux = (grad_x*grad_x+grad_y*grad_y) / (dl * dl)\n",
    "  gradient_root_g = aux / (4.0*g)\n",
    "\n",
    "  return gradient_root_g"
   ]
  },
  {
   "cell_type": "code",
   "execution_count": 161,
   "metadata": {},
   "outputs": [
    {
     "name": "stdout",
     "output_type": "stream",
     "text": [
      "i = 1, error = 9.574089457313548e-07\n"
     ]
    }
   ],
   "source": [
    "U = 10\n",
    "rho = 1\n",
    "\n",
    "v = U*np.exp(-X*X-Y*Y)\n",
    "c1 = pow(2*np.pi,-2) / rho\n",
    "\n",
    "g = np.ones((N,N), dtype=np.float32)\n",
    "S = np.ones((N,N), dtype=np.float32)\n",
    "aux = np.zeros((N,N))\n",
    "\n",
    "dt = 0.1\n",
    "condition = True\n",
    "counter = 1\n",
    "while condition:\n",
    "  omega_k = -0.25*K2*(2*S+1)*(1-(1/S))*(1-(1/S)) \n",
    "  omega = dkx * dky * (ifft2(omega_k, workers=10, norm='forward')) * c1\n",
    "  second_term = calculate_second_term(g)\n",
    "  V_ph = g*v+1*second_term+(g-1)*omega\n",
    "  V_ph_k = fftshift(rho * (fft2(V_ph, workers=10, norm='backward')) * dx * dy)\n",
    "  aux = np.real(K2+4*V_ph_k)\n",
    "  #if any(np.less_equal(aux, 0)):\n",
    "   # print(\"instability at rho = \", rho)\n",
    "    #break\n",
    "  new_S = K / np.sqrt(np.abs(aux)) \n",
    "  S = (1-dt)*S + dt*new_S\n",
    "  dg = np.real(1+(dkx * dky * ifft2(S-1, workers=10, norm='forward')) * c1)\n",
    "  new_g = dg#g*np.exp(dt*(dg-g))\n",
    "  if counter%25==0 or counter==1:\n",
    "    error = np.abs(np.sum(np.sum(g-new_g))) * dl * dl / dt\n",
    "    condition = error > 1e-6\n",
    "    print('i = {}, error = {}'.format(counter, error))\n",
    "    \n",
    "  g = new_g\n",
    "  \n",
    "  counter = counter + 1"
   ]
  },
  {
   "cell_type": "code",
   "execution_count": 162,
   "metadata": {},
   "outputs": [
    {
     "data": {
      "text/plain": [
       "(0.0, 40.0)"
      ]
     },
     "execution_count": 162,
     "metadata": {},
     "output_type": "execute_result"
    },
    {
     "data": {
      "image/png": "[encoded data removed]",
      "text/plain": [
       "<Figure size 640x480 with 1 Axes>"
      ]
     },
     "metadata": {},
     "output_type": "display_data"
    }
   ],
   "source": [
    "plt.plot(l,np.real((S[:,N//2])))\n",
    "plt.plot(l,np.real((g[:,N//2])))\n",
    "\n",
    "#plt.xlim(np.min(l),np.max(l))\n",
    "plt.xlim(0,40)"
   ]
  },
  {
   "cell_type": "code",
   "execution_count": 13,
   "metadata": {},
   "outputs": [
    {
     "data": {
      "text/plain": [
       "-0.019540791402050672"
      ]
     },
     "execution_count": 13,
     "metadata": {},
     "output_type": "execute_result"
    }
   ],
   "source": [
    "l[0]-l[1]"
   ]
  },
  {
   "cell_type": "code",
   "execution_count": 59,
   "metadata": {},
   "outputs": [
    {
     "data": {
      "text/plain": [
       "66.55514500346469"
      ]
     },
     "execution_count": 59,
     "metadata": {},
     "output_type": "execute_result"
    }
   ],
   "source": [
    "np.max(S)"
   ]
  },
  {
   "cell_type": "code",
   "execution_count": 66,
   "metadata": {},
   "outputs": [
    {
     "data": {
      "text/plain": [
       "0.0003699884752337802"
      ]
     },
     "execution_count": 66,
     "metadata": {},
     "output_type": "execute_result"
    }
   ],
   "source": [
    "np.min(np.min(S))"
   ]
  },
  {
   "cell_type": "code",
   "execution_count": 145,
   "metadata": {},
   "outputs": [
    {
     "data": {
      "text/plain": [
       "array([[0.00000000e+00, 6.07126761e-04, 2.42850704e-03, ...,\n",
       "        3.88615768e+01, 3.91693901e+01, 3.94784176e+01],\n",
       "       [0.00000000e+00, 6.07126761e-04, 2.42850704e-03, ...,\n",
       "        3.88615768e+01, 3.91693901e+01, 3.94784176e+01],\n",
       "       [0.00000000e+00, 6.07126761e-04, 2.42850704e-03, ...,\n",
       "        3.88615768e+01, 3.91693901e+01, 3.94784176e+01],\n",
       "       ...,\n",
       "       [0.00000000e+00, 6.07126761e-04, 2.42850704e-03, ...,\n",
       "        3.88615768e+01, 3.91693901e+01, 3.94784176e+01],\n",
       "       [0.00000000e+00, 6.07126761e-04, 2.42850704e-03, ...,\n",
       "        3.88615768e+01, 3.91693901e+01, 3.94784176e+01],\n",
       "       [0.00000000e+00, 6.07126761e-04, 2.42850704e-03, ...,\n",
       "        3.88615768e+01, 3.91693901e+01, 3.94784176e+01]])"
      ]
     },
     "execution_count": 145,
     "metadata": {},
     "output_type": "execute_result"
    }
   ],
   "source": [
    "Kx2"
   ]
  },
  {
   "cell_type": "code",
   "execution_count": null,
   "metadata": {},
   "outputs": [],
   "source": []
  }
 ],
 "metadata": {
  "kernelspec": {
   "display_name": "env",
   "language": "python",
   "name": "python3"
  },
  "language_info": {
   "codemirror_mode": {
    "name": "ipython",
    "version": 3
   },
   "file_extension": ".py",
   "mimetype": "text/x-python",
   "name": "python",
   "nbconvert_exporter": "python",
   "pygments_lexer": "ipython3",
   "version": "3.11.1"
  }
 },
 "nbformat": 4,
 "nbformat_minor": 2
}
